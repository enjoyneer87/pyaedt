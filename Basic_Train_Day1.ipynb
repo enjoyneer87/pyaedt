{
 "cells": [
  {
   "cell_type": "code",
   "execution_count": 1,
   "metadata": {},
   "outputs": [],
   "source": [
    "import ansys.aedt.core\n",
    "import os\n",
    "import tempfile\n",
    "import time"
   ]
  },
  {
   "cell_type": "code",
   "execution_count": 2,
   "metadata": {},
   "outputs": [],
   "source": [
    "from ansys.aedt.core import Maxwell3d\n"
   ]
  },
  {
   "cell_type": "code",
   "execution_count": 3,
   "metadata": {},
   "outputs": [],
   "source": [
    "AEDT_VERSION = \"2025.1\"\n",
    "NUM_CORES = 8\n",
    "NG_MODE = False  # Open AEDT UI when it is launched."
   ]
  },
  {
   "cell_type": "code",
   "execution_count": 4,
   "metadata": {},
   "outputs": [
    {
     "data": {
      "text/plain": [
       "'D:\\\\KangDH\\\\deVSimulation\\\\Ansys'"
      ]
     },
     "execution_count": 4,
     "metadata": {},
     "output_type": "execute_result"
    }
   ],
   "source": [
    "\"D:\\KangDH\\deVSimulation\\Ansys\""
   ]
  },
  {
   "cell_type": "code",
   "execution_count": null,
   "metadata": {},
   "outputs": [],
   "source": [
    "# project_name = os.path.join(\"D:\\EM_KDH\\Moa_Edu_Sim\\Basic\", \"PlanarCapacitor.aedt\")"
   ]
  },
  {
   "cell_type": "markdown",
   "metadata": {},
   "source": [
    "# 2D"
   ]
  },
  {
   "cell_type": "code",
   "execution_count": null,
   "metadata": {},
   "outputs": [],
   "source": [
    "from ansys.aedt.core import Maxwell2d\n",
    "\n",
    "m2d = Maxwell2d(\n",
    "    project=project_name,\n",
    "    version=AEDT_VERSION,\n",
    "    new_desktop=False,\n",
    "    non_graphical=NG_MODE,\n",
    ")\n",
    "rect1=m2d.modeler.create_rectangle([0, 0], [10, 10], name=\"rect1\", matname=\"copper\")\n",
    "rect1.id\n",
    "m2dModel=m2d.modeler\n",
    "m2dModel.object_list   # List of objects in the model\n",
    "m2dModel.object_names\n",
    "rect1_1=m2dModel.get_object_from_name(\"rect1_1\")\n",
    "\n",
    "rect1=m2dModel.get_object_from_name(\"rect1\")\n",
    "rect1.color='Red'\n",
    "Vertrect=rect1.vertices\n",
    "rect1.fillet(Vertrect[1],None,0.5,0)\n"
   ]
  },
  {
   "cell_type": "markdown",
   "metadata": {},
   "source": [
    "# 3D "
   ]
  },
  {
   "cell_type": "code",
   "execution_count": null,
   "metadata": {},
   "outputs": [],
   "source": [
    "m3dOdesign=m3d.odesign\n",
    "m3dOdesign.SetSolutionType(\"Electrostatics\")\n",
    "m3dModel=m3d.modeler"
   ]
  },
  {
   "cell_type": "markdown",
   "metadata": {},
   "source": [
    "## fillet 3D box edges with a given radius"
   ]
  },
  {
   "cell_type": "code",
   "execution_count": null,
   "metadata": {},
   "outputs": [],
   "source": [
    "box1Obj=m3dModel.create_box([0,0,0],[10,10,10],name=\"box1\",matname=\"copper\")\n",
    "box13D_vertices=box1Obj.vertices\n",
    "box13D_vertices\n",
    "box13D_edge=box1Obj.edges\n",
    "box13D_vertices\n",
    "edge4filltet=m3dModel.get_edgeids_from_vertexid(31,box1Obj.id)\n",
    "box1Obj.fillet(None,edge4filltet[0:3],0.5,0)"
   ]
  },
  {
   "cell_type": "markdown",
   "metadata": {},
   "source": [
    "## Electrostatics"
   ]
  },
  {
   "cell_type": "code",
   "execution_count": null,
   "metadata": {},
   "outputs": [],
   "source": [
    "materials = m3d.materials\n",
    "# conduc=materials.mat_names_aedt   "
   ]
  },
  {
   "cell_type": "code",
   "execution_count": null,
   "metadata": {},
   "outputs": [],
   "source": [
    "downPlate=m3dModel.create_box([0,0,0],[25,25,2],name=\"downPlate\",material=\"pec\")\n",
    "upPlate=m3dModel.create_box([0,0,3],[25,25,2],name=\"upPlate\",material=\"pec\")"
   ]
  },
  {
   "cell_type": "code",
   "execution_count": null,
   "metadata": {},
   "outputs": [],
   "source": [
    "downPlate.color='Red'\n",
    "upPlate.color='Red'"
   ]
  },
  {
   "cell_type": "code",
   "execution_count": null,
   "metadata": {},
   "outputs": [],
   "source": [
    "Gap=m3dModel.create_box([0,0,2],[25,25,1],name=\"Gap\",material=\"vacuum\")"
   ]
  },
  {
   "cell_type": "code",
   "execution_count": null,
   "metadata": {},
   "outputs": [],
   "source": [
    "Gap.color='Gray'"
   ]
  },
  {
   "cell_type": "code",
   "execution_count": null,
   "metadata": {},
   "outputs": [],
   "source": [
    "downVoltage=m3d.assign_voltage(downPlate,0,\"downVoltage\")\n",
    "upVoltage=m3d.assign_voltage(upPlate,0,\"upVoltage\")"
   ]
  },
  {
   "cell_type": "code",
   "execution_count": null,
   "metadata": {},
   "outputs": [],
   "source": [
    "m3d.assign_matrix([\"downVoltage\",\"upVoltage\"],'Matrix1')"
   ]
  },
  {
   "cell_type": "code",
   "execution_count": null,
   "metadata": {},
   "outputs": [],
   "source": [
    "solSetupObj=m3d.create_setup(\"Setup1\")\n",
    "solSetupObj.available_properties\n",
    "solSetupObj.props[\"MaximumPasses\"]=10\n",
    "solSetupObj.props[\"PercentError\"]=1\n",
    "solSetupObj.props[\"Enabled\"]=1\n",
    "solSetupObj.props[\"SolveMatrixAtLast\"]=\"True\"\n",
    "solSetupObj.props[\"PercentRefinement\"]=50\n",
    "solSetupObj.props[\"MinimumPasses\"]=2\n",
    "solSetupObj.props[\"MinimumConvergedPasses\"]=1\n"
   ]
  },
  {
   "cell_type": "code",
   "execution_count": null,
   "metadata": {},
   "outputs": [],
   "source": [
    "m3d.valid_design\n",
    "m3dAnalyObj=m3d.analyze()"
   ]
  },
  {
   "cell_type": "markdown",
   "metadata": {},
   "source": [
    "## Cylindrical Capacitor\n"
   ]
  },
  {
   "cell_type": "code",
   "execution_count": null,
   "metadata": {},
   "outputs": [],
   "source": [
    "m3dCylinder = Maxwell3d(\n",
    "    project=\"D:\\EM_KDH\\Moa_Edu_Sim\\Basic\\CylinderCapacitor.aedt\",\n",
    "    version=AEDT_VERSION,\n",
    "    new_desktop=False,\n",
    "    non_graphical=NG_MODE,\n",
    ")\n"
   ]
  },
  {
   "cell_type": "code",
   "execution_count": null,
   "metadata": {},
   "outputs": [],
   "source": [
    "m3dCylyderOdesign=m3dCylinder.odesign\n",
    "m3dCylyderOdesign.SetSolutionType(\"Electrostatic\")"
   ]
  },
  {
   "cell_type": "markdown",
   "metadata": {},
   "source": [
    "### geometry"
   ]
  },
  {
   "cell_type": "code",
   "execution_count": null,
   "metadata": {},
   "outputs": [],
   "source": [
    "cylinderInnerObj=m3dCylinder.modeler.primitives.create_cylinder([0, 0, 0],\n",
    "                         [0, 0, -4],\n",
    "                         radius=0.6,\n",
    "                         height=25,\n",
    "                         num_sides=24,\n",
    "                         name=\"Inner\",\n",
    "                         materials=\"copper\")"
   ]
  },
  {
   "cell_type": "code",
   "execution_count": null,
   "metadata": {},
   "outputs": [],
   "source": [
    "cylinderOuterObj=m3dCylinder.modeler.primitives.create_cylinder([0, 0, 0],\n",
    "                         [0, 0, -4],\n",
    "                         radius=1.2,\n",
    "                         height=25,\n",
    "                         num_sides=24,\n",
    "                         name=\"Outer\",\n",
    "                         materials=\"copper\")"
   ]
  },
  {
   "cell_type": "code",
   "execution_count": null,
   "metadata": {},
   "outputs": [],
   "source": [
    "VaccumObj=m3dCylinder.modeler.primitives.create_cylinder([0, 0, 0],\n",
    "                         [0, 0, -4],\n",
    "                         radius=1,\n",
    "                         height=25,\n",
    "                         num_sides=24,\n",
    "                         name=\"Gap\",\n",
    "                         materials=\"vaccum\")"
   ]
  },
  {
   "cell_type": "code",
   "execution_count": null,
   "metadata": {},
   "outputs": [],
   "source": [
    "m3dCylinderModel.subtract([cylinderOuterObj.id],[VaccumObj.id],False)"
   ]
  },
  {
   "cell_type": "code",
   "execution_count": null,
   "metadata": {},
   "outputs": [],
   "source": [
    "RegionObj=m3dCylinderModel.create_region(\n",
    "        pad_value=[300,300,300,300,0,0],\n",
    "        pad_type='Percentage Offset',  \n",
    "        name='Region',  \n",
    "        material='Vacuum',\n",
    ") \n"
   ]
  },
  {
   "cell_type": "markdown",
   "metadata": {},
   "source": [
    "### Assign"
   ]
  },
  {
   "cell_type": "code",
   "execution_count": null,
   "metadata": {},
   "outputs": [],
   "source": [
    "m3dCylinder.assign_material([\"Inner\"],'copper')\n",
    "m3dCylinder.assign_material([\"Outer\"],'copper')\n",
    "\n",
    "m3dCylinderModel=m3dCylinder.modeler"
   ]
  },
  {
   "cell_type": "code",
   "execution_count": null,
   "metadata": {},
   "outputs": [],
   "source": [
    "m3dCylinder.assign_voltage(\"Inner\",0,\"InnerVoltage\")"
   ]
  },
  {
   "cell_type": "code",
   "execution_count": null,
   "metadata": {},
   "outputs": [],
   "source": [
    "m3dCylyderOdesign.ChangeProperty(\n",
    "\t[\n",
    "\t\t\"NAME:AllTabs\",\n",
    "\t\t[\n",
    "\t\t\t\"NAME:Maxwell3D\",  # Tab Name\n",
    "\t\t\t[\n",
    "\t\t\t\t\"NAME:PropServers\", \n",
    "\t\t\t\t\"BoundarySetup:InnerVoltage\"  # property_objectstr (전체다)\n",
    "\t\t\t],\n",
    "\t\t\t[\n",
    "\t\t\t\t\"NAME:ChangedProps\",\n",
    "\t\t\t\t[\n",
    "\t\t\t\t\t\"NAME:Voltage\",\n",
    "\t\t\t\t\t\"Value:=\"\t\t, \"-1000V\"\n",
    "\t\t\t\t]\n",
    "\t\t\t]\n",
    "\t\t]\n",
    "\t])\n",
    "m3dCylinder.change_property(m3dCylyderOdesign,'Maxwell3D','BoundarySetup:InnerVoltage','Voltage','-1000V')"
   ]
  },
  {
   "cell_type": "code",
   "execution_count": null,
   "metadata": {},
   "outputs": [],
   "source": [
    "m3dCylinder.assign_voltage(\"Outer\",1000,\"OuterVoltage\")\n",
    "m3dCylinder.assign_matrix([\"InnerVoltage\",\"OuterVoltage\"],'Matrix1')\n",
    "m3dCylinder.assign_force([\"Inner\"],coordinate_system='Global',is_virtual=True,force_name='Force1')"
   ]
  },
  {
   "cell_type": "markdown",
   "metadata": {},
   "source": [
    "### Setup"
   ]
  },
  {
   "cell_type": "code",
   "execution_count": null,
   "metadata": {},
   "outputs": [],
   "source": [
    "solCylinder3dSetupObj=m3dCylinder.create_setup(\"Setup1\")\n",
    "# solCylinder3dSetupObj.available_properties\n",
    "solCylinder3dSetupObj.props[\"MaximumPasses\"]=10\n",
    "solCylinder3dSetupObj.props[\"PercentError\"]=1\n",
    "solCylinder3dSetupObj.props[\"Enabled\"]=1\n",
    "solCylinder3dSetupObj.props[\"SolveMatrixAtLast\"]=\"True\"\n",
    "solCylinder3dSetupObj.props[\"PercentRefinement\"]=50\n",
    "solCylinder3dSetupObj.props[\"MinimumPasses\"]=2\n",
    "solCylinder3dSetupObj.props[\"MinimumConvergedPasses\"]=1"
   ]
  },
  {
   "cell_type": "code",
   "execution_count": null,
   "metadata": {},
   "outputs": [],
   "source": []
  },
  {
   "cell_type": "markdown",
   "metadata": {},
   "source": [
    "### Post"
   ]
  },
  {
   "cell_type": "code",
   "execution_count": null,
   "metadata": {},
   "outputs": [],
   "source": [
    "import ansys.aedt.core.visualization.post.common"
   ]
  },
  {
   "cell_type": "code",
   "execution_count": null,
   "metadata": {},
   "outputs": [],
   "source": [
    "m3CylinderPost=m3dCylinder.post\n"
   ]
  },
  {
   "cell_type": "code",
   "execution_count": null,
   "metadata": {},
   "outputs": [],
   "source": [
    "m3CylinderPost.plot_field('Mag_E','Region','Volume')"
   ]
  },
  {
   "cell_type": "markdown",
   "metadata": {},
   "source": [
    "### def create_3d_plot"
   ]
  },
  {
   "cell_type": "markdown",
   "metadata": {},
   "source": [
    "### def get_solution_data"
   ]
  },
  {
   "cell_type": "markdown",
   "metadata": {},
   "source": [
    "### get Sol"
   ]
  },
  {
   "cell_type": "code",
   "execution_count": null,
   "metadata": {},
   "outputs": [],
   "source": [
    "solCylinderPost.export_data_to_csv('D:\\EM_KDH\\Moa_Edu_Sim\\Basic/test.csv')"
   ]
  },
  {
   "cell_type": "code",
   "execution_count": null,
   "metadata": {},
   "outputs": [],
   "source": [
    "m3CylinderPost.export_field_plot(plot_name='Mag_E2',output_dir='D:\\EM_KDH\\Moa_Edu_Sim\\Basic')"
   ]
  },
  {
   "cell_type": "code",
   "execution_count": null,
   "metadata": {},
   "outputs": [],
   "source": [
    "m3dBattery.odesign.SetSolutionType(\"Electrostatic\")"
   ]
  },
  {
   "cell_type": "code",
   "execution_count": null,
   "metadata": {},
   "outputs": [],
   "source": [
    "a=m3CylinderPost.ofieldsreporter"
   ]
  },
  {
   "cell_type": "code",
   "execution_count": null,
   "metadata": {},
   "outputs": [],
   "source": [
    "m3CylinderPost.plot_field_from_fieldplot(plot_name='E',project_path=\"\",mesh_plot=True,image_format='png',view='isometric',plot_label='',show=True,)"
   ]
  },
  {
   "cell_type": "markdown",
   "metadata": {},
   "source": [
    "## Parallel Plate Capacitor (Battery)"
   ]
  },
  {
   "cell_type": "code",
   "execution_count": null,
   "metadata": {},
   "outputs": [],
   "source": [
    "m3dBattery=Maxwell3d(\n",
    "    project=\"D:\\EM_KDH\\Moa_Edu_Sim\\Basic\\Battery.aedt\",\n",
    "    version=AEDT_VERSION,\n",
    "    new_desktop=False,\n",
    "    non_graphical=NG_MODE,\n",
    ")"
   ]
  },
  {
   "cell_type": "code",
   "execution_count": null,
   "metadata": {},
   "outputs": [],
   "source": [
    "m3dBatteryModel=m3dBattery.modeler"
   ]
  },
  {
   "cell_type": "code",
   "execution_count": null,
   "metadata": {},
   "outputs": [],
   "source": []
  },
  {
   "cell_type": "code",
   "execution_count": null,
   "metadata": {},
   "outputs": [],
   "source": [
    "helixBattery=m3dBatteryModel.create_udp(dll=\"RectHelix.dll\",parameters=[\"\"],library=\"syslib\")"
   ]
  },
  {
   "cell_type": "code",
   "execution_count": null,
   "metadata": {},
   "outputs": [],
   "source": [
    "RectHelixObj=m3dBatteryModel.get_object_from_name('RectHelix1:CreateUserDefinedPart:1')"
   ]
  },
  {
   "cell_type": "code",
   "execution_count": null,
   "metadata": {},
   "outputs": [],
   "source": [
    "m3dBatteryModel.create_udp(dll=\"SegmentedHelix/RectHelix.dll\",parameters=[[\"RectHeight\",\"75mm\"], [\"RectWidth\",\"2mm\"],[\"StartHelixRadius\",\"12mm\"],[\"RadiusChange\",\"6mm\"],[\"Pitch\",\"0mm\"],[\"Turns\",\"2.5\"],[\"SegmentsPerTurn\",\"0\"],[\"RightHanded\",\"1\"]],library=\"syslib\",name='RectHelixD')"
   ]
  },
  {
   "cell_type": "code",
   "execution_count": null,
   "metadata": {},
   "outputs": [],
   "source": [
    "m3dBatteryModel.update_udp(assignment=\"RectHelixD\",\n",
    "                           )"
   ]
  },
  {
   "cell_type": "code",
   "execution_count": null,
   "metadata": {},
   "outputs": [],
   "source": [
    "from ansys.aedt.core import generic"
   ]
  },
  {
   "cell_type": "code",
   "execution_count": null,
   "metadata": {},
   "outputs": [],
   "source": []
  },
  {
   "cell_type": "code",
   "execution_count": null,
   "metadata": {},
   "outputs": [],
   "source": [
    "m3d"
   ]
  }
 ],
 "metadata": {
  "kernelspec": {
   "display_name": "Python 3",
   "language": "python",
   "name": "python3"
  },
  "language_info": {
   "codemirror_mode": {
    "name": "ipython",
    "version": 3
   },
   "file_extension": ".py",
   "mimetype": "text/x-python",
   "name": "python",
   "nbconvert_exporter": "python",
   "pygments_lexer": "ipython3",
   "version": "3.11.11"
  }
 },
 "nbformat": 4,
 "nbformat_minor": 2
}
